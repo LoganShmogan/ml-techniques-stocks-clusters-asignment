{
 "cells": [
  {
   "cell_type": "markdown",
   "id": "dec4dd4c",
   "metadata": {},
   "source": [
    "# Action 1"
   ]
  },
  {
   "cell_type": "code",
   "execution_count": null,
   "id": "716d745f",
   "metadata": {},
   "outputs": [],
   "source": [
    "import yfinance as yf\n",
    "\n",
    "ticker = yf.Ticker(\"AAPL\")\n",
    "df = ticker.history(period=\"5y\")\n",
    "print(df.head())"
   ]
  },
  {
   "cell_type": "markdown",
   "id": "f2378110",
   "metadata": {},
   "source": [
    "## Column Explanations\n",
    "\n",
    "Date (index) – Trading day.\n",
    "\n",
    "Open – Price when the stock first traded that day.\n",
    "\n",
    "High – Highest price during that day.\n",
    "\n",
    "Low – Lowest price during that day.\n",
    "\n",
    "Close – Price at the end of the trading day (this is our target y).\n",
    "\n",
    "Volume – Number of shares traded that day.\n",
    "\n",
    "Dividends – Dividend issued per share on that day (if any).\n",
    "\n",
    "Stock Splits – Stock split ratio (if a split occurred that day)."
   ]
  },
  {
   "cell_type": "markdown",
   "id": "56912443",
   "metadata": {},
   "source": [
    "## Choosing Features (X) to Predict Close\n",
    "\n",
    "Since the goal is to predict Close, we need predictors that make sense:\n",
    "\n",
    "Good candidates for Features (X):\n",
    "\n",
    "Open → starting price of the day (strongly related to Close).\n",
    "\n",
    "High → daily max, often correlated with closing price.\n",
    "\n",
    "Low → daily min, also correlated.\n",
    "\n",
    "Volume → market activity, might influence price movement.\n",
    "\n",
    "Not ideal for prediction in this assignment:\n",
    "\n",
    "Dividends (rare events, mostly 0).\n",
    "\n",
    "Stock Splits (rare events, mostly 0)."
   ]
  },
  {
   "cell_type": "code",
   "execution_count": null,
   "id": "776e3b9f",
   "metadata": {},
   "outputs": [],
   "source": [
    "X = df[[\"Open\", \"High\", \"Low\", \"Volume\"]]\n",
    "y = df[\"Close\"]"
   ]
  },
  {
   "cell_type": "code",
   "execution_count": null,
   "id": "6635cb23",
   "metadata": {},
   "outputs": [],
   "source": [
    "# Action 2\n",
    "import yfinance as yf\n",
    "import pandas as pd\n",
    "\n",
    "# Get stock data\n",
    "ticker = yf.Ticker(\"AAPL\")  # you can pick another stock, e.g. \"MSFT\"\n",
    "df = ticker.history(period=\"5y\")\n",
    "\n",
    "# Define Features (X) and Target (y)\n",
    "X = df[[\"Open\", \"High\", \"Low\", \"Volume\"]]\n",
    "y = df[\"Close\"]\n",
    "\n",
    "print(\"Features (X) sample:\")\n",
    "print(X.head())\n",
    "print(\"\\nTarget (y) sample:\")\n",
    "print(y.head())\n"
   ]
  },
  {
   "cell_type": "code",
   "execution_count": null,
   "id": "57a3a20f",
   "metadata": {},
   "outputs": [],
   "source": [
    "# Action 3\n",
    "import matplotlib.pyplot as plt\n",
    "\n",
    "plt.scatter(df[\"Open\"], df[\"Close\"], alpha=0.5)\n",
    "plt.xlabel(\"Open Price\")\n",
    "plt.ylabel(\"Close Price\")\n",
    "plt.title(\"Scatter Plot: Open vs Close (AAPL)\")\n",
    "plt.show()\n"
   ]
  },
  {
   "cell_type": "code",
   "execution_count": null,
   "id": "c31f484b",
   "metadata": {},
   "outputs": [],
   "source": [
    "# Combine X and y into one DataFrame for correlation\n",
    "corr = df[[\"Open\", \"High\", \"Low\", \"Volume\", \"Close\"]].corr()\n",
    "\n",
    "print(\"Correlation matrix:\")\n",
    "print(corr[\"Close\"])"
   ]
  },
  {
   "cell_type": "markdown",
   "id": "0558bca1",
   "metadata": {},
   "source": [
    "## Action 4\n",
    "Open → Close: Very strong positive correlation (~0.99).\n",
    "\n",
    "High → Close: Very strong positive correlation (~0.99).\n",
    "\n",
    "Low → Close: Very strong positive correlation (~0.99).\n",
    "\n",
    "Volume → Close: Negative correlation (-0.531181). \n",
    "\n",
    "This suggests that higher trading activity sometimes coincides with price dropping."
   ]
  }
 ],
 "metadata": {
  "kernelspec": {
   "display_name": "base",
   "language": "python",
   "name": "python3"
  },
  "language_info": {
   "name": "python",
   "version": "3.13.5"
  }
 },
 "nbformat": 4,
 "nbformat_minor": 5
}
