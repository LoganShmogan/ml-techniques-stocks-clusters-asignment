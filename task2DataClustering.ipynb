{
 "cells": [
  {
   "cell_type": "markdown",
   "id": "69888fac",
   "metadata": {},
   "source": [
    "# Task 2"
   ]
  },
  {
   "cell_type": "markdown",
   "id": "a24dd6c6",
   "metadata": {},
   "source": [
    "#### Action I"
   ]
  },
  {
   "cell_type": "markdown",
   "id": "01d2035a",
   "metadata": {},
   "source": [
    "Reading through the data set im seeeing alot of information related to a customer whom is labeled as an ID. The data relating to this customer is pretty much their spending habbits? Looking at different payments, different balances, frequencys of both... Mostly looking to relate to a credit score. I would imagine this is what a bank would look at before giving out loans or cerdit cards etc. "
   ]
  },
  {
   "cell_type": "markdown",
   "id": "36563886",
   "metadata": {},
   "source": [
    "#### Action II"
   ]
  },
  {
   "cell_type": "code",
   "execution_count": 5,
   "id": "872127b6",
   "metadata": {},
   "outputs": [
    {
     "name": "stdout",
     "output_type": "stream",
     "text": [
      "Credit Card data sample:\n",
      "  CUST_ID,BALANCE,BALANCE_FREQUENCY,PURCHASES,ONEOFF_PURCHASES,INSTALLMENTS_PURCHASES,CASH_ADVANCE,PURCHASES_FREQUENCY,ONEOFF_PURCHASES_FREQUENCY,PURCHASES_INSTALLMENTS_FREQUENCY,CASH_ADVANCE_FREQUENCY,CASH_ADVANCE_TRX,PURCHASES_TRX,CREDIT_LIMIT,PAYMENTS,MINIMUM_PAYMENTS,PRC_FULL_PAYMENT,TENURE\n",
      "0  C10001,40.900749,0.818182,95.4,0,95.4,0,0.1666...                                                                                                                                                                                                                                                   \n",
      "1  C10002,3202.467416,0.909091,0,0,0,6442.945483,...                                                                                                                                                                                                                                                   \n",
      "2  C10003,2495.148862,1,773.17,773.17,0,0,1,1,0,0...                                                                                                                                                                                                                                                   \n",
      "3  C10004,1666.670542,0.636364,1499,1499,0,205.78...                                                                                                                                                                                                                                                   \n",
      "4  C10005,817.714335,1,16,16,0,0,0.083333,0.08333...                                                                                                                                                                                                                                                   \n"
     ]
    }
   ],
   "source": [
    "import pandas as pd\n",
    "\n",
    "df = pd.read_csv(\"CC GENERAL.xls.csv\")\n",
    "\n",
    "print(\"Credit Card data sample:\")\n",
    "print(df.head())\n"
   ]
  },
  {
   "cell_type": "code",
   "execution_count": null,
   "id": "9cead9d5",
   "metadata": {},
   "outputs": [],
   "source": [
    "# format for clustering\n",
    "\n",
    "X_cluister = df.drop(columns=[0, 1, 2])\n",
    "\n"
   ]
  },
  {
   "cell_type": "markdown",
   "id": "8c21ccd6",
   "metadata": {},
   "source": []
  }
 ],
 "metadata": {
  "kernelspec": {
   "display_name": "base",
   "language": "python",
   "name": "python3"
  },
  "language_info": {
   "codemirror_mode": {
    "name": "ipython",
    "version": 3
   },
   "file_extension": ".py",
   "mimetype": "text/x-python",
   "name": "python",
   "nbconvert_exporter": "python",
   "pygments_lexer": "ipython3",
   "version": "3.13.5"
  }
 },
 "nbformat": 4,
 "nbformat_minor": 5
}
